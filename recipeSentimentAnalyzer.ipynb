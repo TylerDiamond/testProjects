{
  "nbformat": 4,
  "nbformat_minor": 0,
  "metadata": {
    "colab": {
      "provenance": [],
      "authorship_tag": "ABX9TyM/P/4Ublzcz3Ppc8CRTLk5"
    },
    "kernelspec": {
      "name": "python3",
      "display_name": "Python 3"
    },
    "language_info": {
      "name": "python"
    }
  },
  "cells": [
    {
      "cell_type": "code",
      "execution_count": 1,
      "metadata": {
        "colab": {
          "base_uri": "https://localhost:8080/",
          "height": 356
        },
        "id": "KR5i_LXDFilH",
        "outputId": "926ba468-e08a-484e-b0a2-db4c1703b87d"
      },
      "outputs": [
        {
          "output_type": "error",
          "ename": "HTTPError",
          "evalue": "404 Client Error: Not Found for url: https://example.com/recipe1",
          "traceback": [
            "\u001b[0;31m---------------------------------------------------------------------------\u001b[0m",
            "\u001b[0;31mHTTPError\u001b[0m                                 Traceback (most recent call last)",
            "\u001b[0;32m<ipython-input-1-eb09e9770a11>\u001b[0m in \u001b[0;36m<cell line: 32>\u001b[0;34m()\u001b[0m\n\u001b[1;32m     31\u001b[0m \u001b[0mrecipe_urls\u001b[0m \u001b[0;34m=\u001b[0m \u001b[0;34m[\u001b[0m\u001b[0;34m\"https://example.com/recipe1\"\u001b[0m\u001b[0;34m,\u001b[0m \u001b[0;34m\"https://example.com/recipe2\"\u001b[0m\u001b[0;34m]\u001b[0m  \u001b[0;31m# Insert your recipe URLs\u001b[0m\u001b[0;34m\u001b[0m\u001b[0;34m\u001b[0m\u001b[0m\n\u001b[1;32m     32\u001b[0m \u001b[0;32mfor\u001b[0m \u001b[0murl\u001b[0m \u001b[0;32min\u001b[0m \u001b[0mrecipe_urls\u001b[0m\u001b[0;34m:\u001b[0m\u001b[0;34m\u001b[0m\u001b[0;34m\u001b[0m\u001b[0m\n\u001b[0;32m---> 33\u001b[0;31m     \u001b[0mrecipes_data\u001b[0m\u001b[0;34m.\u001b[0m\u001b[0mappend\u001b[0m\u001b[0;34m(\u001b[0m\u001b[0mextract_recipe_data\u001b[0m\u001b[0;34m(\u001b[0m\u001b[0murl\u001b[0m\u001b[0;34m)\u001b[0m\u001b[0;34m)\u001b[0m\u001b[0;34m\u001b[0m\u001b[0;34m\u001b[0m\u001b[0m\n\u001b[0m\u001b[1;32m     34\u001b[0m     \u001b[0mtime\u001b[0m\u001b[0;34m.\u001b[0m\u001b[0msleep\u001b[0m\u001b[0;34m(\u001b[0m\u001b[0;36m2\u001b[0m\u001b[0;34m)\u001b[0m  \u001b[0;31m# Be polite when scraping\u001b[0m\u001b[0;34m\u001b[0m\u001b[0;34m\u001b[0m\u001b[0m\n\u001b[1;32m     35\u001b[0m \u001b[0;34m\u001b[0m\u001b[0m\n",
            "\u001b[0;32m<ipython-input-1-eb09e9770a11>\u001b[0m in \u001b[0;36mextract_recipe_data\u001b[0;34m(recipe_url)\u001b[0m\n\u001b[1;32m     12\u001b[0m \u001b[0;32mdef\u001b[0m \u001b[0mextract_recipe_data\u001b[0m\u001b[0;34m(\u001b[0m\u001b[0mrecipe_url\u001b[0m\u001b[0;34m)\u001b[0m\u001b[0;34m:\u001b[0m\u001b[0;34m\u001b[0m\u001b[0;34m\u001b[0m\u001b[0m\n\u001b[1;32m     13\u001b[0m     \u001b[0mresponse\u001b[0m \u001b[0;34m=\u001b[0m \u001b[0mrequests\u001b[0m\u001b[0;34m.\u001b[0m\u001b[0mget\u001b[0m\u001b[0;34m(\u001b[0m\u001b[0mrecipe_url\u001b[0m\u001b[0;34m,\u001b[0m \u001b[0mtimeout\u001b[0m\u001b[0;34m=\u001b[0m\u001b[0;36m5\u001b[0m\u001b[0;34m)\u001b[0m\u001b[0;34m\u001b[0m\u001b[0;34m\u001b[0m\u001b[0m\n\u001b[0;32m---> 14\u001b[0;31m     \u001b[0mresponse\u001b[0m\u001b[0;34m.\u001b[0m\u001b[0mraise_for_status\u001b[0m\u001b[0;34m(\u001b[0m\u001b[0;34m)\u001b[0m\u001b[0;34m\u001b[0m\u001b[0;34m\u001b[0m\u001b[0m\n\u001b[0m\u001b[1;32m     15\u001b[0m \u001b[0;34m\u001b[0m\u001b[0m\n\u001b[1;32m     16\u001b[0m     \u001b[0msoup\u001b[0m \u001b[0;34m=\u001b[0m \u001b[0mBeautifulSoup\u001b[0m\u001b[0;34m(\u001b[0m\u001b[0mresponse\u001b[0m\u001b[0;34m.\u001b[0m\u001b[0mcontent\u001b[0m\u001b[0;34m,\u001b[0m \u001b[0;34m'html.parser'\u001b[0m\u001b[0;34m)\u001b[0m\u001b[0;34m\u001b[0m\u001b[0;34m\u001b[0m\u001b[0m\n",
            "\u001b[0;32m/usr/local/lib/python3.10/dist-packages/requests/models.py\u001b[0m in \u001b[0;36mraise_for_status\u001b[0;34m(self)\u001b[0m\n\u001b[1;32m   1019\u001b[0m \u001b[0;34m\u001b[0m\u001b[0m\n\u001b[1;32m   1020\u001b[0m         \u001b[0;32mif\u001b[0m \u001b[0mhttp_error_msg\u001b[0m\u001b[0;34m:\u001b[0m\u001b[0;34m\u001b[0m\u001b[0;34m\u001b[0m\u001b[0m\n\u001b[0;32m-> 1021\u001b[0;31m             \u001b[0;32mraise\u001b[0m \u001b[0mHTTPError\u001b[0m\u001b[0;34m(\u001b[0m\u001b[0mhttp_error_msg\u001b[0m\u001b[0;34m,\u001b[0m \u001b[0mresponse\u001b[0m\u001b[0;34m=\u001b[0m\u001b[0mself\u001b[0m\u001b[0;34m)\u001b[0m\u001b[0;34m\u001b[0m\u001b[0;34m\u001b[0m\u001b[0m\n\u001b[0m\u001b[1;32m   1022\u001b[0m \u001b[0;34m\u001b[0m\u001b[0m\n\u001b[1;32m   1023\u001b[0m     \u001b[0;32mdef\u001b[0m \u001b[0mclose\u001b[0m\u001b[0;34m(\u001b[0m\u001b[0mself\u001b[0m\u001b[0;34m)\u001b[0m\u001b[0;34m:\u001b[0m\u001b[0;34m\u001b[0m\u001b[0;34m\u001b[0m\u001b[0m\n",
            "\u001b[0;31mHTTPError\u001b[0m: 404 Client Error: Not Found for url: https://example.com/recipe1"
          ]
        }
      ],
      "source": [
        "import pandas as pd\n",
        "import requests\n",
        "from bs4 import BeautifulSoup\n",
        "import time\n",
        "import matplotlib.pyplot as plt\n",
        "import seaborn as sns\n",
        "from nltk.corpus import stopwords\n",
        "from sklearn.feature_extraction.text import CountVectorizer\n",
        "from sklearn.naive_bayes import MultinomialNB\n",
        "\n",
        "# *** DATA COLLECTION ***\n",
        "def extract_recipe_data(recipe_url):\n",
        "    response = requests.get(recipe_url, timeout=5)\n",
        "    response.raise_for_status()\n",
        "\n",
        "    soup = BeautifulSoup(response.content, 'html.parser')\n",
        "\n",
        "    title = soup.find('h1').text\n",
        "    ingredients = [ing.text for ing in soup.find_all('li', class_='ingredients-item-name')]\n",
        "    # Assuming reviews exist in elements with a specific class\n",
        "    reviews = [review.text for review in soup.find_all('p', class_='review-text')]\n",
        "\n",
        "    return {\n",
        "        'title': title,\n",
        "        'ingredients': ingredients,\n",
        "        'reviews': reviews\n",
        "    }\n",
        "\n",
        "# Simplified data collection\n",
        "recipes_data = []\n",
        "recipe_urls = [\"https://example.com/recipe1\", \"https://example.com/recipe2\"]  # Insert your recipe URLs\n",
        "for url in recipe_urls:\n",
        "    recipes_data.append(extract_recipe_data(url))\n",
        "    time.sleep(2)  # Be polite when scraping\n",
        "\n",
        "# Create a Pandas DataFrame\n",
        "df = pd.DataFrame(recipes_data)\n",
        "\n",
        "# *** TEXT PREPROCESSING ***\n",
        "stop_words = set(stopwords.words('english'))\n",
        "\n",
        "def preprocess_text(text):\n",
        "    text = text.lower()  # Convert to lowercase\n",
        "    # ... Other preprocessing steps (remove punctuation, numbers, etc.) ...\n",
        "    words = [w for w in text.split() if w not in stop_words]\n",
        "    return ' '.join(words)\n",
        "\n",
        "df['clean_reviews'] = df['reviews'].apply(preprocess_text)\n",
        "\n",
        "# *** SENTIMENT ANALYSIS *** (Rule-Based)\n",
        "positive_words = ['delicious', 'tasty', 'amazing', 'flavorful']\n",
        "negative_words = ['bland', 'disappointing', 'terrible']\n",
        "\n",
        "def rule_based_sentiment(text):\n",
        "    pos_count = sum([text.count(w) for w in positive_words])\n",
        "    neg_count = sum([text.count(w) for w in negative_words])\n",
        "\n",
        "    if pos_count > neg_count:\n",
        "        return 'positive'\n",
        "    elif neg_count > pos_count:\n",
        "        return 'negative'\n",
        "    else:\n",
        "        return 'neutral'\n",
        "\n",
        "df['sentiment'] = df['clean_reviews'].apply(rule_based_sentiment)\n",
        "\n",
        "# *** VISUALIZATION ***\n",
        "plt.figure(figsize=(10,6))\n",
        "sns.countplot(x='sentiment', data=df, palette='coolwarm')\n",
        "plt.title('Distribution of Recipe Review Sentiment')\n",
        "plt.xticks(rotation=45)\n",
        "plt.show()\n",
        "\n",
        "# (Optional) User Input - would require a simple web interface for usability\n"
      ]
    }
  ]
}