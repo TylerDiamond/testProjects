{
  "nbformat": 4,
  "nbformat_minor": 0,
  "metadata": {
    "colab": {
      "provenance": [],
      "authorship_tag": "ABX9TyNE41LuDZZ80DWMrkKhY6Yi"
    },
    "kernelspec": {
      "name": "python3",
      "display_name": "Python 3"
    },
    "language_info": {
      "name": "python"
    }
  },
  "cells": [
    {
      "cell_type": "code",
      "execution_count": null,
      "metadata": {
        "id": "USZFzEO2KWSa"
      },
      "outputs": [],
      "source": [
        "!pip install IMDbPY"
      ]
    },
    {
      "cell_type": "code",
      "source": [
        "from imdb import IMDb\n",
        "import networkx as nx\n",
        "\n",
        "def initialize_graph():\n",
        "    return nx.Graph(), IMDb()\n",
        "\n",
        "def find_actors(ia, actor_name_1, actor_name_2):\n",
        "    actor_1_search = ia.search_person(actor_name_1)\n",
        "    actor_2_search = ia.search_person(actor_name_2)\n",
        "\n",
        "    if not actor_1_search or not actor_2_search:\n",
        "        print(\"Could not find one of the actors.\")\n",
        "        return None, None\n",
        "\n",
        "    actor_1 = actor_1_search[0]\n",
        "    actor_2 = actor_2_search[0]\n",
        "    print(f\"Found actors: {actor_1['name']} and {actor_2['name']}.\")\n",
        "    return actor_1, actor_2\n",
        "\n",
        "def add_actor_connections(graph, ia, actor):\n",
        "    # Ensure actor node is added with name\n",
        "    graph.add_node(actor.personID, type='actor', name=actor['name'])\n",
        "\n",
        "    ia.update(actor, 'filmography')\n",
        "    movies = actor.get('filmography', {}).get('actor', []) + actor.get('filmography', {}).get('actress', [])\n",
        "    for movie in movies:\n",
        "        movie_id = \"m\" + movie.movieID  # Prefix with 'm' to differentiate from actor IDs\n",
        "        graph.add_node(movie_id, type='movie', title=movie['title'])\n",
        "        graph.add_edge(actor.personID, movie_id)\n",
        "\n",
        "def build_connections(graph, ia, actors):\n",
        "    for actor in actors:\n",
        "        add_actor_connections(graph, ia, actor)\n",
        "\n",
        "def find_path_and_print(graph, actor_1, actor_2):\n",
        "    try:\n",
        "        path = nx.shortest_path(graph, source=actor_1.personID, target=actor_2.personID)\n",
        "        print_path_info(graph, path)\n",
        "    except nx.NetworkXNoPath:\n",
        "        print(f\"No connection found between {actor_1['name']} and {actor_2['name']}.\")\n",
        "\n",
        "def print_path_info(graph, path):\n",
        "    print(\"Connection path:\")\n",
        "    for i in range(len(path) - 1):\n",
        "        node_a, node_b = path[i], path[i+1]\n",
        "        if graph.nodes[node_a].get('type') == 'actor':\n",
        "            actor_name = graph.nodes[node_a].get('name')\n",
        "            movie_title = graph.nodes[node_b].get('title')\n",
        "            print(f\"{actor_name} appeared in '{movie_title}'\")\n",
        "        else:\n",
        "            actor_name = graph.nodes[node_b].get('name')\n",
        "            movie_title = graph.nodes[node_a].get('title')\n",
        "            print(f\"{actor_name} in '{movie_title}'\")\n",
        "\n",
        "if __name__ == \"__main__\":\n",
        "    graph, ia = initialize_graph()\n",
        "    actor_name_1 = input(\"Enter the name of the first actor: \")\n",
        "    actor_name_2 = input(\"Enter the name of the second actor: \")\n",
        "\n",
        "    actor_1, actor_2 = find_actors(ia, actor_name_1, actor_name_2)\n",
        "    if actor_1 and actor_2:\n",
        "        build_connections(graph, ia, [actor_1, actor_2])\n",
        "        find_path_and_print(graph, actor_1, actor_2)\n"
      ],
      "metadata": {
        "colab": {
          "base_uri": "https://localhost:8080/"
        },
        "id": "HjgToPsbMM4h",
        "outputId": "a46fad57-8577-489f-83b6-e2eaabf72906"
      },
      "execution_count": 16,
      "outputs": [
        {
          "output_type": "stream",
          "name": "stdout",
          "text": [
            "Enter the name of the first actor: Keith David\n",
            "Enter the name of the second actor: Kevin Spacey\n",
            "Found actors: Keith David and Kevin Spacey.\n",
            "Connection path:\n",
            "Keith David appeared in 'Tribeca'\n",
            "Kevin Spacey in 'Tribeca'\n"
          ]
        }
      ]
    }
  ]
}