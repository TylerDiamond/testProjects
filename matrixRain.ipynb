{
  "nbformat": 4,
  "nbformat_minor": 0,
  "metadata": {
    "colab": {
      "provenance": [],
      "authorship_tag": "ABX9TyOObQvfj9TWfzduBO/MhLBR"
    },
    "kernelspec": {
      "name": "python3",
      "display_name": "Python 3"
    },
    "language_info": {
      "name": "python"
    }
  },
  "cells": [
    {
      "cell_type": "code",
      "source": [],
      "metadata": {
        "id": "pJWq4jxaPerD"
      },
      "execution_count": null,
      "outputs": []
    },
    {
      "cell_type": "code",
      "execution_count": null,
      "metadata": {
        "colab": {
          "base_uri": "https://localhost:8080/"
        },
        "id": "rHdWHPl2OzeK",
        "outputId": "cd9d7588-b85a-462a-b46f-eb0334b3036d"
      },
      "outputs": [
        {
          "output_type": "stream",
          "name": "stdout",
          "text": [
            "p    x   )                              ew                            \n",
            "                  9  R             s             u      z          S  \n",
            "            C                          8      u       o               \n",
            " ^         M                   & Z                                    \n",
            "       4                             a     a             f   Fw       \n",
            "                    q                                     PZ     H    \n",
            "                        Nf  W                      m   X             y\n",
            "                A         p                  O       v                \n",
            "                                          l                           \n",
            "             d   t           3        3                        )      \n",
            "               H                                                      \n",
            "  j                           A                                       \n",
            "                                            g                         \n",
            "                                                                      \n",
            "                                                                  z   \n",
            "    8     D           S                                               \n",
            "              D                                                       \n",
            "                                                t                     \n",
            "                                                                      \n",
            "                                                                      \n"
          ]
        }
      ],
      "source": [
        "import numpy as np\n",
        "import time\n",
        "from IPython.display import clear_output\n",
        "\n",
        "# Parameters\n",
        "width = 70  # Width of the output\n",
        "drops = [0 for _ in range(width)]  # Drop positions\n",
        "\n",
        "# Matrix characters\n",
        "chars = np.array(list('abcdefghijklmnopqrstuvwxyzABCDEFGHIJKLMNOPQRSTUVWXYZ0123456789@#$%^&*()'))\n",
        "\n",
        "def update_drops():\n",
        "    \"\"\"Update the positions of the drops\"\"\"\n",
        "    for i in range(len(drops)):\n",
        "        if np.random.random() > 0.9:  # Randomly reset drops\n",
        "            drops[i] = 0\n",
        "        else:\n",
        "            drops[i] += 1\n",
        "\n",
        "def draw():\n",
        "    \"\"\"Draw the matrix effect\"\"\"\n",
        "    output = np.array([[' ' for _ in range(width)] for _ in range(20)])  # 20 rows of space\n",
        "    for i, drop in enumerate(drops):\n",
        "        if drop > 0:\n",
        "            # Choose a random character to display\n",
        "            char = np.random.choice(chars)\n",
        "            if drop < 20:\n",
        "                output[drop-1][i] = char\n",
        "            if drop > 1 and drop-1 < 20:\n",
        "                output[drop-2][i] = ' '  # Clear the character above the current one\n",
        "\n",
        "    # Convert the output to a string\n",
        "    output_str = '\\n'.join([''.join(row) for row in output])\n",
        "    clear_output(wait=True)\n",
        "    print(output_str)\n",
        "\n",
        "def main():\n",
        "    try:\n",
        "        while True:\n",
        "            update_drops()\n",
        "            draw()\n",
        "            time.sleep(0.01)\n",
        "    except KeyboardInterrupt:\n",
        "        print(\"Stopped.\")\n",
        "\n",
        "if __name__ == \"__main__\":\n",
        "    main()\n"
      ]
    }
  ]
}